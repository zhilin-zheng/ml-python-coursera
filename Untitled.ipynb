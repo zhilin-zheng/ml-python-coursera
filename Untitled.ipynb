{
 "cells": [
  {
   "cell_type": "code",
   "execution_count": 3,
   "id": "sufficient-attempt",
   "metadata": {},
   "outputs": [
    {
     "name": "stdout",
     "output_type": "stream",
     "text": [
      "10.25\n"
     ]
    }
   ],
   "source": [
    "alist = [1,2,4,5,34,1,32,4,34,2,1,3]\n",
    "print(sum(alist)/len(alist))"
   ]
  },
  {
   "cell_type": "code",
   "execution_count": 5,
   "id": "precise-assurance",
   "metadata": {},
   "outputs": [
    {
     "data": {
      "text/plain": [
       "3.5"
      ]
     },
     "execution_count": 5,
     "metadata": {},
     "output_type": "execute_result"
    }
   ],
   "source": [
    "import statistics\n",
    "\n",
    "statistics.median(alist)\n"
   ]
  },
  {
   "cell_type": "code",
   "execution_count": 7,
   "id": "coupled-graduate",
   "metadata": {},
   "outputs": [
    {
     "data": {
      "text/plain": [
       "11.133532932342526"
      ]
     },
     "execution_count": 7,
     "metadata": {},
     "output_type": "execute_result"
    }
   ],
   "source": [
    "blist = [34,1,23,4,3,3,12,4,3,1]\n",
    "statistics.stdev(blist)"
   ]
  },
  {
   "cell_type": "code",
   "execution_count": 10,
   "id": "isolated-warner",
   "metadata": {},
   "outputs": [
    {
     "name": "stdout",
     "output_type": "stream",
     "text": [
      "Uninstalling scipy-1.6.1:\n",
      "  Would remove:\n",
      "    /home/zhilin/code/private/ibm-ai-eng-cert/venv-ml-python-coursera/lib/python3.7/site-packages/scipy-1.6.1.dist-info/*\n",
      "    /home/zhilin/code/private/ibm-ai-eng-cert/venv-ml-python-coursera/lib/python3.7/site-packages/scipy.libs/libgfortran-ed201abd.so.3.0.0\n",
      "    /home/zhilin/code/private/ibm-ai-eng-cert/venv-ml-python-coursera/lib/python3.7/site-packages/scipy.libs/libopenblasp-r0-085ca80a.3.9.so\n",
      "    /home/zhilin/code/private/ibm-ai-eng-cert/venv-ml-python-coursera/lib/python3.7/site-packages/scipy/*\n",
      "Proceed (y/n)? ^C\n",
      "\u001b[31mOperation cancelled by user\u001b[0m\n"
     ]
    }
   ],
   "source": [
    "!pip uninstall scipy"
   ]
  },
  {
   "cell_type": "code",
   "execution_count": 12,
   "id": "fancy-conservative",
   "metadata": {},
   "outputs": [
    {
     "data": {
      "text/plain": [
       "0.663124005193275"
      ]
     },
     "execution_count": 12,
     "metadata": {},
     "output_type": "execute_result"
    }
   ],
   "source": [
    "from scipy.stats import kurtosis\n",
    "kurtosis([34,1,23,4,3,3,12,4,3,1])"
   ]
  },
  {
   "cell_type": "code",
   "execution_count": 5,
   "id": "thorough-dublin",
   "metadata": {},
   "outputs": [
    {
     "data": {
      "text/plain": [
       "1.4549069329913997"
      ]
     },
     "execution_count": 5,
     "metadata": {},
     "output_type": "execute_result"
    }
   ],
   "source": [
    "from scipy.stats import skew\n",
    "skew([34,1,23,4,3,3,12,4,3,1])"
   ]
  },
  {
   "cell_type": "code",
   "execution_count": 14,
   "id": "relative-importance",
   "metadata": {},
   "outputs": [
    {
     "data": {
      "text/plain": [
       "(0.709272912083725, 0.02161702934962524)"
      ]
     },
     "execution_count": 14,
     "metadata": {},
     "output_type": "execute_result"
    }
   ],
   "source": [
    "from scipy.stats import pearsonr\n",
    "x = [1,2,3,4,5,6,7,8,9,10]\n",
    "y = [7,6,5,4,5,6,7,8,9,10]\n",
    "pearsonr(x, y)  "
   ]
  },
  {
   "cell_type": "code",
   "execution_count": 3,
   "id": "theoretical-authorization",
   "metadata": {},
   "outputs": [
    {
     "data": {
      "text/plain": [
       "array([[9.16666667, 4.05555556],\n",
       "       [4.05555556, 3.56666667]])"
      ]
     },
     "execution_count": 3,
     "metadata": {},
     "output_type": "execute_result"
    }
   ],
   "source": [
    "import numpy as np\n",
    "x = [1,2,3,4,5,6,7,8,9,10]\n",
    "y = [7,6,5,4,5,6,7,8,9,10]\n",
    "X = np.stack((x, y), axis=0)\n",
    "np.cov(x, y) "
   ]
  }
 ],
 "metadata": {
  "kernelspec": {
   "display_name": "Python 3",
   "language": "python",
   "name": "python3"
  },
  "language_info": {
   "codemirror_mode": {
    "name": "ipython",
    "version": 3
   },
   "file_extension": ".py",
   "mimetype": "text/x-python",
   "name": "python",
   "nbconvert_exporter": "python",
   "pygments_lexer": "ipython3",
   "version": "3.7.4"
  }
 },
 "nbformat": 4,
 "nbformat_minor": 5
}
